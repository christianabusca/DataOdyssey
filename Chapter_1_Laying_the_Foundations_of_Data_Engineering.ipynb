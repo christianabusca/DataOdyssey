{
  "nbformat": 4,
  "nbformat_minor": 0,
  "metadata": {
    "colab": {
      "provenance": [],
      "authorship_tag": "ABX9TyOsSQq47yntC1ERNx7XiZ9l",
      "include_colab_link": true
    },
    "kernelspec": {
      "name": "python3",
      "display_name": "Python 3"
    },
    "language_info": {
      "name": "python"
    }
  },
  "cells": [
    {
      "cell_type": "markdown",
      "metadata": {
        "id": "view-in-github",
        "colab_type": "text"
      },
      "source": [
        "<a href=\"https://colab.research.google.com/github/christianabusca/DataOdyssey/blob/main/Chapter_1_Laying_the_Foundations_of_Data_Engineering.ipynb\" target=\"_parent\"><img src=\"https://colab.research.google.com/assets/colab-badge.svg\" alt=\"Open In Colab\"/></a>"
      ]
    },
    {
      "cell_type": "markdown",
      "source": [
        "# **DATA ODYSSEY - CHAPTER 1**"
      ],
      "metadata": {
        "id": "a1UAvNSsG_zs"
      }
    },
    {
      "cell_type": "markdown",
      "source": [
        "# ***-- UNDERSTANDING DATA ENGINEERING***"
      ],
      "metadata": {
        "id": "3L89BXS7HQt-"
      }
    },
    {
      "cell_type": "code",
      "execution_count": null,
      "metadata": {
        "id": "2VraBSlSGaKw"
      },
      "outputs": [],
      "source": [
        "# DATA ENGINEERING AND BIG DATA\n",
        "\n",
        "# WHAT IS DATA ENGINEERING\n",
        "# DATA ENGINEERS BUILD DATA PIPELINES\n",
        "\n",
        "# DATA WORKFLOW\n",
        "# DATA COLLECTION & STORAGE\n",
        "# DATA PREPARATION (CLEANING DATA, CONVERTING DATA INTO MORE ORGANIZE FORMAT)\n",
        "# EXPLORATION & VISUALIZATION\n",
        "# EXPERIMENTATION & PREDICTION"
      ]
    },
    {
      "cell_type": "markdown",
      "source": [
        "**DATA WORKFLOW**\n",
        "1. DATA COLLECTION AND STORAGE\n",
        "2. DATA PREPARATION\n",
        "3. EXPLORATION AND VISUALIZATION\n",
        "4. EXPERIMENTATION AND PREDICATION\n",
        "\n",
        "\n",
        "\n",
        "\n",
        "**DATA ENGINEERS** DELIVER THE CORRECT DATA, IN THE RIGHT FORM\n",
        "\n",
        "A **DATA ENGINEERS** RESPONSIBILITIES ARE TO INGEST DATA FROM DIFFERENT SOURCES.\n",
        "\n",
        "OPTIMIZE DATABASES FOR ANALYSIS.\n",
        "\n",
        "REMOVE CORRUPTED DATA.\n",
        "\n",
        "DEVELOP, CONSTRUCT, TEST, AND MAINTAIN DATA ARCHITECTURES.\n",
        "\n",
        "DATA ENGINEERS AND BIGDATA\n",
        "\n",
        "BIG DATA BECOMES THE NORM => DATA ENGINEERS ARE MORE AND MORE NEEDED\n",
        "\n",
        "**BIG DATA IS CATEGORIZED BY FIVE V's**\n",
        "1. VOLUME (VALUE OR HOW MUCH DATA POINTS)\n",
        "2. VARIETY (WHAT KIND OR TYPE OF NATURE OF THE DATA)\n",
        "3. VELOCITY (HOW FAST THE DATA IS PROCESSED OR HOW FREQUENT)\n",
        "4. VERACITY (HOW ACCURATE OR HOW TRUSTFUL THE RESOURCES ARE)\n",
        "5. VALUE (HOW USEFUL OR ACTIONABLE THE DATA IS)\n",
        "\n"
      ],
      "metadata": {
        "id": "M9uCTvJWIDdA"
      }
    },
    {
      "cell_type": "markdown",
      "source": [
        "# **DATA ENGINEERS VS. DATA SCIENTISTS**\n",
        "\n",
        "**DATA ENGINEERS** FOCUS ON THE FIRST PART OF THE WORK FLOW, WHICH IS ABOUT THE DATA COLLECTION AND STORAGE.\n",
        "\n",
        "THE ROLE OF DATA ENGINEERS IS TO INGEST AND TO STORE THE DATA SO ITS EASY ACCESSIBLE AND READY TO BE ANALYZED.\n",
        "\n",
        "**DATA SCIENTISTS** INTERVENE ON THE REST OF THE WORKFLOW; THEY PREPARE THE DATA ACCORDING TO TEIR ANALYSIS NEEDS, EXPLORE IT, BUILD INSIGHTFUL VISUALIZATION, AND THEN RUN EXPERIMENTS OR BUILD PREDICTIVE MODELS\n",
        "\n",
        "**DATA ENGINEERS** LAY THE GROUNDWORK THAT MAKES DATA SCIENCE ACTIVITY POSSIBLE\n",
        "\n",
        "MOREOVER, THEY ALSO INGEST AND STORE COLLECTED DATA, AND ENSURE THAT DATABASES ARE OPTIMIZED FOR ANALYSIS (TABLE STRUCTURE, AND INFORMATION EASY TO RETRIEVE).\n",
        "\n",
        "**DATA SCIENTIST**, ON THE OTHER HAND EXPLOIT THOSE DATA, ACCESS THE DATABASES TO EXPLOIT THE DATA IT CONTAINS.\n",
        "\n",
        "**DATA ENGINEERS** BUILD DATA PIPELINES, WHILE **DATA SCIENTISTS** USE THE PIPELINES' OUTPUTS\n",
        "\n",
        "MOREOVER, DATA ENGINEERS ARE SOFTWARE EXPERTS WHILE DATA SCIENTISTS ARE ANALYTICS EXPERTS.\n",
        "\n",
        "**DATA ENGINEERS** USE LANGUAGES LIKE SOFTWARE-ORIENTED LANGUAGES SUCH AS PYTHON, JAVA AND SQL to create, update, and transform databases.\n",
        "\n",
        "WHILE **DATA SCIENTISTS** USE LANGUAGES LIKE PYTHON, R, AND SQL TO QUERY OR REQUEST INFORMATION FROM DATABASES.\n",
        "\n"
      ],
      "metadata": {
        "id": "dlwAr94aJmvI"
      }
    },
    {
      "cell_type": "markdown",
      "source": [
        "# **THE DATA PIPELINE**\n",
        "\n",
        "DATA IS THE NEW OIL\n",
        "\n",
        "DATA ENGINEERING - INGEST DATA, AND DNEEDS TO BE PROCESSED, STORE, NEED PIPILINES, AND AUTOMATE FLOW FROM ONE STATION TO THE NEXT, AND PROVIDE UP-TO-DATE, ACCURATE, AND RELEVANT DATA.\n",
        "\n",
        "DATA PIPILINES ENSURES THE DATA FLOWS EFFICIENTLY THROUGH THE ORGANIZATION.\n",
        "\n",
        "THEY AUTOMATE, EXTRACTIN TRANSFORMING, COMBINING, VALIDATING, AND LOADING DATA.\n",
        "\n",
        "TO REDUCE HUMAN INTERVENTAION, AND ERRORS\n",
        "\n",
        "**ETL AND DATA PIPILINES**\n",
        "\n",
        "ETL IS A POPULAR FRAMEWORK FOR DESIGNING DATA PIPELINES\n",
        "1. EXTRACT DATA\n",
        "2. TRANSFORM EXTRACTED DATA\n",
        "3. LOAD TRANSFORMED DATA TO ANOTHER DATABASE\n",
        "\n",
        "DATA PIPELINES\n",
        "- THEY MOVE DATA FROM ONE SYSTEM TO ANOTHER\n",
        "- MAY FOLLOW ETL\n",
        "- DATA MAY NOT BE TRANSFORMED\n",
        "- DATA MAY BE DIRECTLY LOADED IN APPLICATIONS"
      ],
      "metadata": {
        "id": "8tB_JlC6Nvd1"
      }
    },
    {
      "cell_type": "markdown",
      "source": [
        "# **DATA STRUCTURES**\n",
        "\n",
        "TYPES OF STORAGE\n",
        "**bold text**\n",
        "**STRUCTURED DATA**\n",
        " - EASY TO SEARCH AND ORGANIZE\n",
        " - CONSISTENT MODEL, ROWS AND COLUMNS\n",
        " - DEFINED TYPES (TEXT, INT, OR DECIMALS)\n",
        " - CAN BE GROUPED TO FORM RELATIONS\n",
        " - STORED IN RELATIONAL DATABASES\n",
        " - 20% OF THE DATA IS STRUCTURED\n",
        " - CREATED AND QUERIED IN SQL\n",
        "\n",
        "**SEMI-STRUCTURED DATA**\n",
        "- IT RESEMBLES STRUCTURED DATA, BUT ALLOWS MORE FREEDOM\n",
        "- RELATIVELY EASY TO SEARCH AND ORGANIZE\n",
        "- CONSISTENT MODEL, LESS RIGID IMPLEMENTATION; DIFFERENT OBSERVATIONS HAVE DIFFERENT SIZES\n",
        "- DIFFERENT TYPES\n",
        "- CAN BE GROUPED, BUT NEEDS MORE WORK\n",
        "- IT IS STORED IN NOSQL DATABASES: JSON, XML, YAML (AS OPPOSED TO SQL)\n",
        "\n",
        "**UNSTRUCTURED DATA**\n",
        "- DATA THAT DOES NOW FOLLOW A MODEL AND CAN'T BE CONTAINED IN A ROWS AND COLUMNS FORMAT\n",
        "- DIFFICULT TO SEARCH AND ORGANIZE\n",
        "- USUALLY TEXT, SOUND, PICTURES OR VIDEOS.\n",
        "- USUALLY STORED IN DATA LAKES, ALTHOUGH CAN ALSO APPEAR IN DATA WAREHOUSES OR DATABASES.\n",
        "- MOST OF THE DATA IS UNSTRUCTURED\n",
        "- UNSTRUCTURED DATA CAN BE EXTREMELY VALUABLE\n",
        "\n",
        "**ADDING SOME STRUCTURE**\n",
        "- USE AI TO SEARCH AND ORGANIZE UNSTRUCTURED DATA\n",
        "- ADD INFORMATION TO MAKE IT SEMI-STRUCTURED DATA\n"
      ],
      "metadata": {
        "id": "TGgMLDmfBtCW"
      }
    },
    {
      "cell_type": "markdown",
      "source": [
        "# **SQL DATABASES**\n",
        "\n",
        "**SQL - STRUCTURED QUERY LANGUAGE**\n",
        "- IT IS THE INDUSTRY STANDARD FOR RELATIONAL DATABASE MANAGEMENT SYSTEM (RDBMS)\n",
        "\n",
        "**ADVANTAGES OF SQL**\n",
        "1. IT ALLOWS YOU TO ACCESS MANY RECORDS AT ONCE\n",
        "2. GROUP, FILTER OR AGGREGATE THEM\n",
        "\n",
        "SQL IS CLOSE TO ENGLISH WHICH MAKES IT EASY TO WRITE AND UNDERSTAND.\n",
        "\n",
        "**DATA ENGINEERS** USE SQL TO CREATE AND MAINTAIN DATABASES.\n",
        "\n",
        "**DATA SCIENTIST** USE SQL TO QUERY DATABASES\n",
        "\n",
        "**SQL FOR DATA ENGINEERS**\n",
        "- DATA ENGINEERS USE SQL TO CREATE, MAINTAIN AND UPDATE TABLES\n",
        "\n",
        "EXAMPLE:\n",
        "\n",
        "\n",
        "```\n",
        "CREATE TABLE employees (\n",
        "  employee_id INT,\n",
        "  first_name VARCHAR(255),\n",
        "  last_name VARCHAR(255),\n",
        "  role VARCHAR(255)\n",
        "  team VARCHAR (255)\n",
        "  full_time BOOLEAN,\n",
        "  office VARCHAR (255)\n",
        "\n",
        ");\n",
        "```\n",
        "\n",
        "**SQL FOR DATA SCIENTISTS**\n",
        "- DATA SCIENTIST USE SQL TO QUERY, FILTER, GROUP, AND AGGREGATE DATA IN TABLES\n",
        "\n",
        "EXAMPLE:\n",
        "\n",
        "```\n",
        "SELECT first_name, last_name\n",
        "FROM employees\n",
        "WHERE role LIKE '%Data%'\n",
        "```\n",
        "\n",
        "**DATABASE SCHEMA**\n",
        "- DATABASES ARE MADE OF TABLES\n",
        "- THE DATABASE SCHEMA GOVERNS HOW TABLES ARE RELATED\n",
        "\n",
        "**SEVERAL IMPLEMENTATIONS OF SQL**\n",
        "1. SQLite\n",
        "2. MySQL\n",
        "3. PostgreSQL\n",
        "4. Oracle SQL\n",
        "5. SQL Server"
      ],
      "metadata": {
        "id": "t_97JxwqEw8Y"
      }
    },
    {
      "cell_type": "markdown",
      "source": [
        "# **DATA WAREHOUSES AND DATA LAKES**\n",
        "\n",
        "**DATA LAKE**\n",
        "- STORES ALL THE RAW DATA\n",
        "- UNPROCESSED AND MESSY\n",
        "- DATA LAKES CA TAKE PETABYTES OF DATA\n",
        "- CAN STORE ANY KIND OF DATA (STRUCTURED, SEMI-STRUCTURED OR UNSTRUCTURED DATA)\n",
        "- COST-EFFECTIVE\n",
        "- LACK OF STRUCTURE MAKES IT DIFFICULT TO ANALYZE\n",
        "- NECESSARY OR REQUIRES AN UP-TO-DATE DATA CATALOG\n",
        "- USED BY DATA SCIENTIST\n",
        "- FOR REAL-TIME ANALYTICS ON BIG DATA\n",
        "\n",
        "**DATA WAREHOUSE**\n",
        "- STORES SPECIFIC DATA FOR A SPECIFIC USE\n",
        "- RELATIVELY SMALL\n",
        "- ENFORCED A STRUCTURED FORMAT\n",
        "- COSTLY TO MANIPULATE\n",
        "- OPTIMIZED FOR ANALYTICS TO DRIVE BUSINESS DECISIONS\n",
        "- USED BY DATA ANALYST AND BUSINESS ANALYSTS\n",
        "- AD-HOC, READ-ONLY QUERIES LIKE AGGREGATION AND SUMMARIZATION.\n",
        "\n",
        "**DATA CATALOG FOR DATA LAKES**\n",
        "- DATA CATALOG IS A SOURCE OF TRUTH THAT COMPENSATES FOR THE LACK OF STRUCTURE IN A DATA LAKE.\n",
        "- IT KEEPS TRACK THE SOURCE OF THIS DATA\n",
        "- WHERE IS THE DATA BEING USED\n",
        "- WHO IS THE OWNER OF THE DATA\n",
        "- HOW OFTEN IS THIS DATA UPDATED\n",
        "- GOOD PRACTICE IN TERMS OF DATA GOVERNANCE (MANAGING THE AVAILABILITY, USABILITY, INTEGRITY AND SECURITY OF THE DATA).\n",
        "- ENSURES REPROCIBILITY OF THE PROCESSES IN CASE ANYTHING UNEXPECTED HAPPENS\n",
        "- NO CATALOG --> DATA SWAMP\n",
        "- DATA CATALOG IS NECESSARY TO PREVENT THE DATA LAKE BECOMING A DATA SWAP (MEANING THERE IS A LACK IN DATA GOVERNANCE)\n",
        "- GOOD PRACTICE FOR ANY DATA STORAGE SOLUTION\n",
        "  - RELIABILITY\n",
        "  - AUTONOMY\n",
        "  - SCALABILITY\n",
        "  - SPEED\n",
        "\n",
        "**DATABASE VS. DATA WAREHOUSE**\n",
        "\n",
        "**DATABASE**\n",
        "- GENERAL TERM\n",
        "- LOOSELY DEFINED AS ORGANIZED DATA STORED AND ACCESSED ON A COMPUTER\n",
        "\n",
        "**DATA WAREHOUSE**\n",
        "- A TYPE OF DATABASE"
      ],
      "metadata": {
        "id": "2zPBsIg9IYEI"
      }
    },
    {
      "cell_type": "markdown",
      "source": [
        "# **PROCESSING DATA**\n",
        "\n",
        "A GENERAL DEFINITION\n",
        "\n",
        "**DATA PROCESSING**\n",
        "- CONVERTING RAW DATA INTO A MEANINGFUL INFORMATION\n",
        "\n",
        "**DATA PROCESSING VALUE**\n",
        "- CONCEPTUALLY\n",
        "  - REMOVE UNWANTED DATA\n",
        "  - OPTIMIZE MEMORY, PROCESS, AND NETWORK COSTS\n",
        "  - CONVERT DATA FOM ONE TYPE OF ANOTHER\n",
        "  - ORGANIZE DATA (MAKING IT EASIER FOR ANALYSTS TO FIND WHAT THEY NEED)\n",
        "  - TO FIT INTO A SCHEMA/STRUCTURE (TO HAVE BENEFITS)\n",
        "  - INCREASES PRODUCTIVITY\n",
        "\n",
        "**HOW DATA ENGINEERS PROCESS DATA**\n",
        "- DATA ENGINEERS PERFORM DATA MANIPULATION, CLEANING AND TIDYING TASKS\n",
        "  - THESE TASKS CAN BE AUTOMATED\n",
        "  - ALWAYS NEED TO BE DONE\n",
        "  **EXAMPLE:**\n",
        "  - REJECTING CORRUPT SONG FILES\n",
        "  - DECIDING WHAT HAPPENS WITH MISSING METADATA\n",
        "- ENSURES TO STORE DATA IN A SANELY STRUCTURED DATABASE\n",
        "- CREATE VIEWS ON TOP OF THE DATABASE TABLES FOR EASY ACCESS BY ANALYSTS\n",
        "- OPTIMIZING THE PERFORMANCE OF THE DATABASES\n",
        "   - EXAMPLE:\n",
        "    - INDEXING THE DATA SO ITS EASIER TO RETRIEVE"
      ],
      "metadata": {
        "id": "f3WBEE8QMi-5"
      }
    },
    {
      "cell_type": "markdown",
      "source": [
        "# **SCHEDULING DATA**\n",
        "\n",
        "**SCHEDULING**\n",
        "- CAN APPLY TO ANY TASK LISTED IN DATA PROCESSING\n",
        "- GLUE OF THE DATA ENGINEERING SYSTEM\n",
        "- HOLDS EACH PIECE AND ORGANIZE HOW THEY WORK TOGETHER\n",
        "- RUNS TASKS IN A SPECIFIC ORDER AND RESOLVES ALL DEPENDENCIES\n",
        "\n",
        "**MANUAL, TIME, AND SENSOR SCHEDULING**\n",
        "- MAUALLY RUN TASKS\n",
        "- AUTOMATICALLY RUN AT A SPECIFIC TIME\n",
        "- AUTOMATICALLY RUN IF A SPECIFIC CONDITION IS MET\n",
        "  - THIS IS CALLED SENSOR SCHEDULING\n",
        "\n",
        "**BATCHES AND STREAMS**\n",
        "- DATA CAN BE INGESTED IN **BATCHES**\n",
        "  - GROUP RECORDS AT INTERVALS\n",
        "  - OFTEN CHEAPER (BECAUSE YOU CAN SCHEDULE IT WHEN RESOURCES AREN'T BEING USED ELSEWHERE, TYPICALLY OVERNIGHT)\n",
        "- DATA CAN BE **STREAMED**\n",
        "  - SEND INDIVIDUAL RECORDS RIGHT AWAY (SENT THROUGH THE PIPELINE AS SOON AS THEY ARE UPDATED).\n",
        "\n",
        "EXAMPLE OF BATCH VS STREAM PROCESSING:\n",
        "OFFLINE VS. ONLINE LISTENING\n"
      ],
      "metadata": {
        "id": "qQGEjTJNWUCC"
      }
    },
    {
      "cell_type": "markdown",
      "source": [
        "# **PARALLEL COMPUTING**\n",
        "\n",
        "**PARALLEL COMPUTING (PARALLEL PROCESSING)**\n",
        "- BASIS OF MODERN DATA PROCESSING TOOLS\n",
        "- NECESSARY:\n",
        "  - MAINLY FOR MEMORY CONCERNS\n",
        "  - PROCESSING POWER\n",
        "\n",
        "**HOW IT WORKS:**\n",
        "- SPLITS THE TASKS UP INTO SEVERAL SMALLER SUB TASKS\n",
        "- DISTRIBUTE THESE SUBTASKS OVER SEVERAL COMPUTERS\n",
        "\n",
        "BENEFITS AND RISKS OF PARALLEL COMPUTING\n",
        "- EMPLOYEES WOULD BE PROCESSING UNITES\n",
        "  - EMPLOYEES = PROCESSING UNITS\n",
        "- ADVANTAGES\n",
        "  - EXTRA PROCESSING POWER\n",
        "  - REDUCED MEMORY FOOTPRINT\n",
        "- DISADVANTAGES\n",
        "  - MOVING DATA INCURS A COST\n",
        "  - COMMUNICATION TIME"
      ],
      "metadata": {
        "id": "RX-jgGH5Z2dq"
      }
    },
    {
      "cell_type": "markdown",
      "source": [
        "# **CLOUD COMPUTING**\n",
        "\n",
        "**CLOUD COMPUTING  FOR DATA PROCESSING**\n",
        "\n",
        "**SERVERS ON PREMISES**\n",
        "- BOUGHT\n",
        "- NEED SPACE\n",
        "- ELECTRICAL AND MAINTENANCE COST\n",
        "- ENOUGH POWER FOR PEAK MOMENTS\n",
        "- PROCESSING POWER UNUSED AT QUIETER TIMES\n",
        "\n",
        "**SERVERS ON THE CLOUD**\n",
        "- RENTED\n",
        "- DONT NEED SPACE\n",
        "- USE THE RESOURCES WE NEED, WHEN WE NEED THEM\n",
        "- THE CLOSE THE USER THE BETTER IN TERMS OF LATENCY\n",
        "\n",
        "**CLOUD COMPUTING FOR DATA STORAGE**\n",
        "- DATABASE RELIABILITY: DATA REPLICATION\n",
        "- RISK WITH SENSITIVE DATA\n",
        "\n",
        "**MULTICLOUD**\n",
        "\n",
        "**PROS**\n",
        "- REDUCING RELIANCE ON A SINGLE VENDOR\n",
        "- COST-EFFICIENT\n",
        "- LOCAL LAWS REQUIRING CERTAIN DATA TO BE PHYSICALLY PRESENT WITHIN THE COUNTRY\n",
        "- MITIGATINGG AGAINST DISASTERS\n",
        "\n",
        "CONS\n",
        "- CLOUD PROVIDERS TRY TO LOCK IN CONSUMERS\n",
        "- INCOMPATIBILITY\n",
        "- SECURITY AND GOVERNANCE\n"
      ],
      "metadata": {
        "id": "CpHJiEr6bqZ4"
      }
    },
    {
      "cell_type": "code",
      "source": [],
      "metadata": {
        "id": "OZ1XTEFfNcJs"
      },
      "execution_count": null,
      "outputs": []
    }
  ]
}