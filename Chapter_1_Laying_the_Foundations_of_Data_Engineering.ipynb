{
  "nbformat": 4,
  "nbformat_minor": 0,
  "metadata": {
    "colab": {
      "provenance": [],
      "authorship_tag": "ABX9TyOBWu1Edx5KINTDixNohbSs",
      "include_colab_link": true
    },
    "kernelspec": {
      "name": "python3",
      "display_name": "Python 3"
    },
    "language_info": {
      "name": "python"
    }
  },
  "cells": [
    {
      "cell_type": "markdown",
      "metadata": {
        "id": "view-in-github",
        "colab_type": "text"
      },
      "source": [
        "<a href=\"https://colab.research.google.com/github/christianabusca/DataOdyssey/blob/main/Chapter_1_Laying_the_Foundations_of_Data_Engineering.ipynb\" target=\"_parent\"><img src=\"https://colab.research.google.com/assets/colab-badge.svg\" alt=\"Open In Colab\"/></a>"
      ]
    },
    {
      "cell_type": "markdown",
      "source": [
        "# **DATA ODYSSEY - CHAPTER 1**"
      ],
      "metadata": {
        "id": "a1UAvNSsG_zs"
      }
    },
    {
      "cell_type": "markdown",
      "source": [
        "# ***-- UNDERSTANDING DATA ENGINEERING***"
      ],
      "metadata": {
        "id": "3L89BXS7HQt-"
      }
    },
    {
      "cell_type": "code",
      "execution_count": null,
      "metadata": {
        "id": "2VraBSlSGaKw"
      },
      "outputs": [],
      "source": [
        "# DATA ENGINEERING AND BIG DATA\n",
        "\n",
        "# WHAT IS DATA ENGINEERING\n",
        "# DATA ENGINEERS BUILD DATA PIPELINES\n",
        "\n",
        "# DATA WORKFLOW\n",
        "# DATA COLLECTION & STORAGE\n",
        "# DATA PREPARATION (CLEANING DATA, CONVERTING DATA INTO MORE ORGANIZE FORMAT)\n",
        "# EXPLORATION & VISUALIZATION\n",
        "# EXPERIMENTATION & PREDICTION"
      ]
    },
    {
      "cell_type": "markdown",
      "source": [
        "**DATA WORKFLOW**\n",
        "1. DATA COLLECTION AND STORAGE\n",
        "2. DATA PREPARATION\n",
        "3. EXPLORATION AND VISUALIZATION\n",
        "4. EXPERIMENTATION AND PREDICATION\n",
        "\n",
        "\n",
        "\n",
        "\n",
        "**DATA ENGINEERS** DELIVER THE CORRECT DATA, IN THE RIGHT FORM\n",
        "\n",
        "A **DATA ENGINEERS** RESPONSIBILITIES ARE TO INGEST DATA FROM DIFFERENT SOURCES.\n",
        "\n",
        "OPTIMIZE DATABASES FOR ANALYSIS.\n",
        "\n",
        "REMOVE CORRUPTED DATA.\n",
        "\n",
        "DEVELOP, CONSTRUCT, TEST, AND MAINTAIN DATA ARCHITECTURES.\n",
        "\n",
        "DATA ENGINEERS AND BIGDATA\n",
        "\n",
        "BIG DATA BECOMES THE NORM => DATA ENGINEERS ARE MORE AND MORE NEEDED\n",
        "\n",
        "**BIG DATA IS CATEGORIZED BY FIVE V's**\n",
        "1. VOLUME (VALUE OR HOW MUCH DATA POINTS)\n",
        "2. VARIETY (WHAT KIND OR TYPE OF NATURE OF THE DATA)\n",
        "3. VELOCITY (HOW FAST THE DATA IS PROCESSED OR HOW FREQUENT)\n",
        "4. VERACITY (HOW ACCURATE OR HOW TRUSTFUL THE RESOURCES ARE)\n",
        "5. VALUE (HOW USEFUL OR ACTIONABLE THE DATA IS)\n",
        "\n"
      ],
      "metadata": {
        "id": "M9uCTvJWIDdA"
      }
    },
    {
      "cell_type": "markdown",
      "source": [
        "# **DATA ENGINEERS VS. DATA SCIENTISTS**\n",
        "\n",
        "**DATA ENGINEERS** FOCUS ON THE FIRST PART OF THE WORK FLOW, WHICH IS ABOUT THE DATA COLLECTION AND STORAGE.\n",
        "\n",
        "THE ROLE OF DATA ENGINEERS IS TO INGEST AND TO STORE THE DATA SO ITS EASY ACCESSIBLE AND READY TO BE ANALYZED.\n",
        "\n",
        "**DATA SCIENTISTS** INTERVENE ON THE REST OF THE WORKFLOW; THEY PREPARE THE DATA ACCORDING TO TEIR ANALYSIS NEEDS, EXPLORE IT, BUILD INSIGHTFUL VISUALIZATION, AND THEN RUN EXPERIMENTS OR BUILD PREDICTIVE MODELS\n",
        "\n",
        "**DATA ENGINEERS** LAY THE GROUNDWORK THAT MAKES DATA SCIENCE ACTIVITY POSSIBLE\n",
        "\n",
        "MOREOVER, THEY ALSO INGEST AND STORE COLLECTED DATA, AND ENSURE THAT DATABASES ARE OPTIMIZED FOR ANALYSIS (TABLE STRUCTURE, AND INFORMATION EASY TO RETRIEVE).\n",
        "\n",
        "**DATA SCIENTIST**, ON THE OTHER HAND EXPLOIT THOSE DATA, ACCESS THE DATABASES TO EXPLOIT THE DATA IT CONTAINS.\n",
        "\n",
        "**DATA ENGINEERS** BUILD DATA PIPELINES, WHILE **DATA SCIENTISTS** USE THE PIPELINES' OUTPUTS\n",
        "\n",
        "MOREOVER, DATA ENGINEERS ARE SOFTWARE EXPERTS WHILE DATA SCIENTISTS ARE ANALYTICS EXPERTS.\n",
        "\n",
        "**DATA ENGINEERS** USE LANGUAGES LIKE SOFTWARE-ORIENTED LANGUAGES SUCH AS PYTHON, JAVA AND SQL to create, update, and transform databases.\n",
        "\n",
        "WHILE **DATA SCIENTISTS** USE LANGUAGES LIKE PYTHON, R, AND SQL TO QUERY OR REQUEST INFORMATION FROM DATABASES.\n",
        "\n"
      ],
      "metadata": {
        "id": "dlwAr94aJmvI"
      }
    },
    {
      "cell_type": "markdown",
      "source": [
        "# **THE DATA PIPELINE**\n",
        "\n"
      ],
      "metadata": {
        "id": "8tB_JlC6Nvd1"
      }
    },
    {
      "cell_type": "code",
      "source": [],
      "metadata": {
        "id": "OZ1XTEFfNcJs"
      },
      "execution_count": null,
      "outputs": []
    }
  ]
}